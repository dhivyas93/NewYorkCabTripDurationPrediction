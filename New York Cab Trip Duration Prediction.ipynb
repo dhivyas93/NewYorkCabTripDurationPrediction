{
 "cells": [
  {
   "attachments": {},
   "cell_type": "markdown",
   "metadata": {},
   "source": [
    "<center>\n",
    "    <h1> KAGGLE CASES, Summer 2019 </h1>\n",
    "    <h1> Project - 1 </h1>\n",
    "    <h1> Name : Dhivya Swaminathan </h1>\n",
    "    <h1> UID : 2000434729 </h1>\n",
    "    <h2> New York Cab Trip Duration Prediction </h2>\n",
    "<center>"
   ]
  },
  {
   "cell_type": "code",
   "execution_count": 2,
   "metadata": {},
   "outputs": [],
   "source": [
    "# importing neccesary libraries\n",
    "import pandas as pd\n",
    "import numpy as np\n",
    "import matplotlib.pyplot as plt\n",
    "import math\n",
    "from haversine import haversine\n",
    "import sklearn as sk\n",
    "from sklearn.linear_model import LinearRegression\n",
    "from sklearn.metrics import mean_squared_error\n",
    "from sklearn.metrics import make_scorer\n",
    "from math import sqrt\n",
    "from sklearn.linear_model import Lasso\n",
    "from sklearn.cluster import MiniBatchKMeans\n",
    "import warnings\n",
    "warnings.filterwarnings('ignore')\n",
    "from sklearn.metrics import mean_squared_log_error\n",
    "from sklearn.ensemble import RandomForestRegressor\n",
    "from sklearn.ensemble import GradientBoostingRegressor\n",
    "from xgboost import XGBRegressor"
   ]
  },
  {
   "cell_type": "code",
   "execution_count": 4,
   "metadata": {},
   "outputs": [],
   "source": [
    "# importing train and test data\n",
    "train_data = pd.read_csv(\"train.csv\")\n",
    "test_data = pd.read_csv(\"test.csv\")"
   ]
  },
  {
   "cell_type": "code",
   "execution_count": 5,
   "metadata": {},
   "outputs": [
    {
     "name": "stdout",
     "output_type": "stream",
     "text": [
      "id                     object\n",
      "vendor_id               int64\n",
      "pickup_datetime        object\n",
      "dropoff_datetime       object\n",
      "passenger_count         int64\n",
      "store_and_fwd_flag     object\n",
      "trip_duration           int64\n",
      "trip_distance         float64\n",
      "dtype: object\n",
      "id                     object\n",
      "vendor_id               int64\n",
      "pickup_datetime        object\n",
      "passenger_count         int64\n",
      "store_and_fwd_flag     object\n",
      "trip_distance         float64\n",
      "dtype: object\n"
     ]
    }
   ],
   "source": [
    "# function to find trip distance based on pickup and dropoff latitude and longitude using haversine distance\n",
    "def find_trip_distance(data):\n",
    "    data['trip_distance'] = data.apply(lambda row: haversine((row['pickup_latitude'], row['pickup_longitude']), \n",
    "                                                           (row['dropoff_latitude'], row['dropoff_longitude'])), axis=1)\n",
    "    data = data.drop(['pickup_latitude', 'pickup_longitude', 'dropoff_latitude', 'dropoff_longitude'], axis=1)\n",
    "    return data\n",
    "\n",
    "train = find_trip_distance(train_data)\n",
    "test = find_trip_distance(test_data)\n",
    "print(train.dtypes)\n",
    "print(test.dtypes)"
   ]
  },
  {
   "cell_type": "code",
   "execution_count": 6,
   "metadata": {
    "scrolled": true
   },
   "outputs": [
    {
     "name": "stdout",
     "output_type": "stream",
     "text": [
      "id                            object\n",
      "vendor_id                      int64\n",
      "pickup_datetime       datetime64[ns]\n",
      "passenger_count                int64\n",
      "store_and_fwd_flag            object\n",
      "trip_duration                  int64\n",
      "trip_distance                float64\n",
      "dtype: object\n",
      "id                            object\n",
      "vendor_id                      int64\n",
      "pickup_datetime       datetime64[ns]\n",
      "passenger_count                int64\n",
      "store_and_fwd_flag            object\n",
      "trip_distance                float64\n",
      "dtype: object\n"
     ]
    }
   ],
   "source": [
    "# changing to datetime format\n",
    "dropoff_time_train = train['dropoff_datetime']\n",
    "train = train.drop(['dropoff_datetime'], axis=1)\n",
    "train['pickup_datetime'] =  pd.to_datetime(train['pickup_datetime'] , format='%Y-%m-%d %H:%M:%S')\n",
    "test['pickup_datetime'] =  pd.to_datetime(test['pickup_datetime'] , format='%Y-%m-%d %H:%M:%S')\n",
    "\n",
    "print(train.dtypes)\n",
    "print(test.dtypes)"
   ]
  },
  {
   "cell_type": "code",
   "execution_count": 7,
   "metadata": {
    "scrolled": true
   },
   "outputs": [
    {
     "name": "stdout",
     "output_type": "stream",
     "text": [
      "id                     object\n",
      "vendor_id               int64\n",
      "passenger_count         int64\n",
      "store_and_fwd_flag     object\n",
      "trip_distance         float64\n",
      "hour_of_pickup          int64\n",
      "minute_of_pickup        int64\n",
      "day_of_month            int64\n",
      "month                   int64\n",
      "day_of_week             int64\n",
      "dtype: object\n"
     ]
    }
   ],
   "source": [
    "# function to get time related features of the pickup time\n",
    "def get_day_of_week(data):\n",
    "    data['hour_of_pickup'] = pd.Series([int(date.strftime('%H')) for date in data['pickup_datetime']])\n",
    "    data['minute_of_pickup'] = pd.Series([int(date.strftime('%M')) for date in data['pickup_datetime']])\n",
    "    data['day_of_month'] = pd.Series([int(date.strftime('%d')) for date in data['pickup_datetime']])\n",
    "    data['month'] = pd.Series([int(date.strftime('%m')) for date in data['pickup_datetime']])\n",
    "    data['day_of_week'] = pd.Series([int(date.weekday()) for date in data['pickup_datetime']])\n",
    "    data = data.drop(['pickup_datetime'], axis=1)\n",
    "    return data\n",
    "\n",
    "train = get_day_of_week(train)\n",
    "test = get_day_of_week(test)\n",
    "\n",
    "print(test.dtypes)"
   ]
  },
  {
   "cell_type": "code",
   "execution_count": 8,
   "metadata": {},
   "outputs": [],
   "source": [
    "X = train.loc[:,['passenger_count', 'trip_distance', 'hour_of_pickup', 'minute_of_pickup','day_of_week','day_of_month','month']]\n",
    "y = train.loc[:,'trip_duration']\n",
    "Xtrain, Xtest, ytrain, ytest = sk.model_selection.train_test_split(X, y, test_size=0.20, random_state=42)"
   ]
  },
  {
   "cell_type": "code",
   "execution_count": 9,
   "metadata": {},
   "outputs": [],
   "source": [
    "# method to find rmsle of a model and define a rmsle scorer for optimising parameters using GridSearchCV\n",
    "def rmsle(y_true, y_pred):\n",
    "    return sqrt(mean_squared_log_error(y_true, y_pred))\n",
    "\n",
    "rmsle_scorer = make_scorer(rmsle, greater_is_better=False)"
   ]
  },
  {
   "cell_type": "markdown",
   "metadata": {},
   "source": [
    "### Linear Regression"
   ]
  },
  {
   "cell_type": "code",
   "execution_count": 8,
   "metadata": {},
   "outputs": [
    {
     "name": "stdout",
     "output_type": "stream",
     "text": [
      "Training Error :  0.6867840778033466\n",
      "Testing Error :  0.6870581088242522\n"
     ]
    }
   ],
   "source": [
    "lr = LinearRegression()\n",
    "lr.fit(Xtrain, ytrain)\n",
    "print(\"Training Error : \", rmsle(ytrain, lr.predict(Xtrain)))\n",
    "print(\"Testing Error : \", rmsle(ytest, lr.predict(Xtest)))"
   ]
  },
  {
   "cell_type": "markdown",
   "metadata": {},
   "source": [
    "### Random Forest Regressor"
   ]
  },
  {
   "cell_type": "code",
   "execution_count": 9,
   "metadata": {},
   "outputs": [
    {
     "name": "stdout",
     "output_type": "stream",
     "text": [
      "Training Error :  0.3327485656711632\n",
      "Testing Error :  0.621894322108409\n"
     ]
    }
   ],
   "source": [
    "rf = RandomForestRegressor()\n",
    "rf.fit(Xtrain, ytrain)\n",
    "print(\"Training Error : \", rmsle(ytrain, rf.predict(Xtrain)))\n",
    "print(\"Testing Error : \", rmsle(ytest, rf.predict(Xtest)))"
   ]
  },
  {
   "cell_type": "markdown",
   "metadata": {},
   "source": [
    "### Gradient Boosting Regressor"
   ]
  },
  {
   "cell_type": "code",
   "execution_count": 10,
   "metadata": {},
   "outputs": [
    {
     "name": "stdout",
     "output_type": "stream",
     "text": [
      "Training Error :  0.5718404414887566\n",
      "Testing Error :  0.5741350288747183\n"
     ]
    }
   ],
   "source": [
    "gb = GradientBoostingRegressor()\n",
    "gb.fit(Xtrain, ytrain)\n",
    "print(\"Training Error : \", rmsle(ytrain, gb.predict(Xtrain)))\n",
    "test_predictions = gb.predict(Xtest)\n",
    "test_predictions[test_predictions < 0] = 0\n",
    "print(\"Testing Error : \", rmsle(ytest, test_predictions))"
   ]
  },
  {
   "cell_type": "markdown",
   "metadata": {},
   "source": [
    "### XGB Regressor"
   ]
  },
  {
   "cell_type": "code",
   "execution_count": 10,
   "metadata": {},
   "outputs": [
    {
     "name": "stdout",
     "output_type": "stream",
     "text": [
      "Training Error :  0.5723136459828121\n",
      "Testing Error :  0.5743113641066209\n"
     ]
    }
   ],
   "source": [
    "xgb = XGBRegressor()\n",
    "xgb.fit(Xtrain, ytrain)\n",
    "print(\"Training Error : \", rmsle(ytrain, xgb.predict(Xtrain)))\n",
    "test_predictions = xgb.predict(Xtest)\n",
    "test_predictions[test_predictions < 0] = 0\n",
    "print(\"Testing Error : \", rmsle(ytest, test_predictions))"
   ]
  },
  {
   "cell_type": "markdown",
   "metadata": {},
   "source": [
    "## Feature Engineering"
   ]
  },
  {
   "cell_type": "markdown",
   "metadata": {},
   "source": [
    "### creating pickup and drop off cluster"
   ]
  },
  {
   "cell_type": "code",
   "execution_count": 11,
   "metadata": {},
   "outputs": [],
   "source": [
    "coords = np.vstack((train_data[['pickup_latitude', 'pickup_longitude']].values,\n",
    "                    train_data[['dropoff_latitude', 'dropoff_longitude']].values,\n",
    "                    test_data[['pickup_latitude', 'pickup_longitude']].values,\n",
    "                    test_data[['dropoff_latitude', 'dropoff_longitude']].values))\n",
    "sample_ind = np.random.permutation(len(coords))[:250000]\n",
    "kmeans = MiniBatchKMeans(n_clusters=100, batch_size=8000).fit(coords[sample_ind])"
   ]
  },
  {
   "cell_type": "code",
   "execution_count": 12,
   "metadata": {},
   "outputs": [],
   "source": [
    "train.loc[:, 'pickup_cluster'] = kmeans.predict(train_data[['pickup_latitude', 'pickup_longitude']])\n",
    "train.loc[:, 'dropoff_cluster'] = kmeans.predict(train_data[['dropoff_latitude', 'dropoff_longitude']])\n",
    "test.loc[:, 'pickup_cluster'] = kmeans.predict(test_data[['pickup_latitude', 'pickup_longitude']])\n",
    "test.loc[:, 'dropoff_cluster'] = kmeans.predict(test_data[['dropoff_latitude', 'dropoff_longitude']])"
   ]
  },
  {
   "cell_type": "code",
   "execution_count": 13,
   "metadata": {},
   "outputs": [
    {
     "data": {
      "text/plain": [
       "id                     object\n",
       "vendor_id               int64\n",
       "passenger_count         int64\n",
       "store_and_fwd_flag     object\n",
       "trip_duration           int64\n",
       "trip_distance         float64\n",
       "hour_of_pickup          int64\n",
       "minute_of_pickup        int64\n",
       "day_of_month            int64\n",
       "month                   int64\n",
       "day_of_week             int64\n",
       "pickup_cluster          int32\n",
       "dropoff_cluster         int32\n",
       "dtype: object"
      ]
     },
     "execution_count": 13,
     "metadata": {},
     "output_type": "execute_result"
    }
   ],
   "source": [
    "train.dtypes"
   ]
  },
  {
   "cell_type": "code",
   "execution_count": 14,
   "metadata": {},
   "outputs": [
    {
     "data": {
      "text/plain": [
       "id                     object\n",
       "vendor_id               int64\n",
       "passenger_count         int64\n",
       "store_and_fwd_flag     object\n",
       "trip_distance         float64\n",
       "hour_of_pickup          int64\n",
       "minute_of_pickup        int64\n",
       "day_of_month            int64\n",
       "month                   int64\n",
       "day_of_week             int64\n",
       "pickup_cluster          int32\n",
       "dropoff_cluster         int32\n",
       "dtype: object"
      ]
     },
     "execution_count": 14,
     "metadata": {},
     "output_type": "execute_result"
    }
   ],
   "source": [
    "test.dtypes"
   ]
  },
  {
   "cell_type": "markdown",
   "metadata": {},
   "source": [
    "### Finding the correlation between the features"
   ]
  },
  {
   "cell_type": "code",
   "execution_count": 15,
   "metadata": {},
   "outputs": [
    {
     "data": {
      "text/plain": [
       "<matplotlib.axes._subplots.AxesSubplot at 0x1a12c7b7f0>"
      ]
     },
     "execution_count": 15,
     "metadata": {},
     "output_type": "execute_result"
    },
    {
     "data": {
      "image/png": "[encoded data removed]",
      "text/plain": [
       "<Figure size 792x648 with 2 Axes>"
      ]
     },
     "metadata": {},
     "output_type": "display_data"
    }
   ],
   "source": [
    "import seaborn as sns\n",
    "# Correlation plot using seaborn\n",
    "from string import ascii_letters\n",
    "\n",
    "sns.set(style=\"white\")\n",
    "\n",
    "# Compute the correlation matrix\n",
    "corr = train.corr()\n",
    "\n",
    "# Generate a mask for the upper triangle\n",
    "mask = np.zeros_like(corr, dtype=np.bool)\n",
    "mask[np.triu_indices_from(mask)] = True\n",
    "\n",
    "# Set up the matplotlib figure\n",
    "f, ax = plt.subplots(figsize=(11, 9))\n",
    "\n",
    "# Generate a custom diverging colormap\n",
    "cmap = sns.diverging_palette(220, 10, as_cmap=True)\n",
    "\n",
    "# Draw the heatmap with the mask and correct aspect ratio\n",
    "sns.heatmap(corr, mask=mask, cmap=cmap, vmax=.3, center=0,\n",
    "            square=True, linewidths=.5, cbar_kws={\"shrink\": .5})"
   ]
  },
  {
   "cell_type": "code",
   "execution_count": 16,
   "metadata": {},
   "outputs": [],
   "source": [
    "# Splitting data into train and test\n",
    "X = train.loc[:,['passenger_count', 'trip_distance', 'hour_of_pickup', 'minute_of_pickup','day_of_week','day_of_month','month']]\n",
    "y = train.loc[:,'trip_duration']\n",
    "Xtrain, Xtest, ytrain, ytest = sk.model_selection.train_test_split(X, y, test_size=0.20, random_state=42)"
   ]
  },
  {
   "cell_type": "code",
   "execution_count": 17,
   "metadata": {},
   "outputs": [
    {
     "name": "stdout",
     "output_type": "stream",
     "text": [
      "Training Error :  0.5718404414887546\n",
      "Testing Error :  0.5741155292084775\n"
     ]
    }
   ],
   "source": [
    "# building a gradient boosting regressor again to check if the new features are good\n",
    "gb = GradientBoostingRegressor()\n",
    "gb.fit(Xtrain, ytrain)\n",
    "train_predictions = gb.predict(Xtrain)\n",
    "train_predictions[train_predictions < 0] = 0\n",
    "print(\"Training Error : \", rmsle(ytrain, train_predictions))\n",
    "test_predictions = gb.predict(Xtest)\n",
    "test_predictions[test_predictions < 0] = 0\n",
    "print(\"Testing Error : \", rmsle(ytest, test_predictions))"
   ]
  },
  {
   "cell_type": "code",
   "execution_count": 18,
   "metadata": {},
   "outputs": [
    {
     "name": "stdout",
     "output_type": "stream",
     "text": [
      "Training Error :  0.5723136459828121\n",
      "Testing Error :  0.5743113641066209\n"
     ]
    }
   ],
   "source": [
    "# building an XGB regressor model\n",
    "xgb = XGBRegressor()\n",
    "xgb.fit(Xtrain, ytrain)\n",
    "train_predictions = xgb.predict(Xtrain)\n",
    "train_predictions[train_predictions < 0] = 0\n",
    "print(\"Training Error : \", rmsle(ytrain, train_predictions))\n",
    "test_predictions = xgb.predict(Xtest)\n",
    "test_predictions[test_predictions < 0] = 0\n",
    "print(\"Testing Error : \", rmsle(ytest, test_predictions))"
   ]
  },
  {
   "cell_type": "markdown",
   "metadata": {},
   "source": [
    "### Predicting the test set"
   ]
  },
  {
   "cell_type": "code",
   "execution_count": 20,
   "metadata": {
    "scrolled": true
   },
   "outputs": [],
   "source": [
    "dtest = test.loc[:,['passenger_count', 'trip_distance', 'hour_of_pickup', 'minute_of_pickup','day_of_week','day_of_month','month']]\n",
    "ytest = xgb.predict(dtest)\n",
    "test['trip_duration'] = ytest\n",
    "test[['id', 'trip_duration']].to_csv('xgb_submission.csv', index=False)"
   ]
  }
 ],
 "metadata": {
  "kernelspec": {
   "display_name": "Python 3",
   "language": "python",
   "name": "python3"
  },
  "language_info": {
   "codemirror_mode": {
    "name": "ipython",
    "version": 3
   },
   "file_extension": ".py",
   "mimetype": "text/x-python",
   "name": "python",
   "nbconvert_exporter": "python",
   "pygments_lexer": "ipython3",
   "version": "3.6.8"
  }
 },
 "nbformat": 4,
 "nbformat_minor": 2
}
